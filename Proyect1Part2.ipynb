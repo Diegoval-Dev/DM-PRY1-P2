{
 "cells": [
  {
   "cell_type": "code",
   "execution_count": null,
   "metadata": {},
   "outputs": [
    {
     "name": "stdout",
     "output_type": "stream",
     "text": [
      "Index(['id', 'budget', 'genres', 'homePage', 'productionCompany',\n",
      "       'productionCompanyCountry', 'productionCountry', 'revenue', 'runtime',\n",
      "       'video', 'director', 'actors', 'actorsPopularity', 'actorsCharacter',\n",
      "       'originalTitle', 'title', 'originalLanguage', 'popularity',\n",
      "       'releaseDate', 'voteAvg', 'voteCount', 'genresAmount',\n",
      "       'productionCoAmount', 'productionCountriesAmount', 'actorsAmount',\n",
      "       'castWomenAmount', 'castMenAmount'],\n",
      "      dtype='object')\n"
     ]
    }
   ],
   "source": [
    "import pandas as pd\n",
    "import numpy as np\n",
    "\n",
    "file_path = \"./movies.csv\"\n",
    "df = pd.read_csv(file_path, encoding=\"ISO-8859-1\")\n",
    "\n",
    "df.head()"
   ]
  },
  {
   "cell_type": "markdown",
   "metadata": {},
   "source": [
    "### Reprocesamiento de datos\n",
    "Esta parte elimina las columnas irrelevantes y permite el manejar datos nulos"
   ]
  },
  {
   "cell_type": "code",
   "execution_count": 8,
   "metadata": {},
   "outputs": [
    {
     "name": "stdout",
     "output_type": "stream",
     "text": [
      "     budget                            genres      revenue  runtime  \\\n",
      "0   4000000                      Crime|Comedy    4257354.0       98   \n",
      "1  21000000             Action|Thriller|Crime   12136938.0      110   \n",
      "2  11000000  Adventure|Action|Science Fiction  775398007.0      121   \n",
      "3  94000000                  Animation|Family  940335536.0      100   \n",
      "4  55000000              Comedy|Drama|Romance  677387716.0      142   \n",
      "\n",
      "                                    actorsPopularity originalLanguage  \\\n",
      "0  22.225|23.519|17.816|19.893|9.027|7.147|7.769|...               en   \n",
      "1  9.008|6.383|10.757|18.295|11.772|14.777|9.669|...               en   \n",
      "2  11.881|24.542|14.434|10.651|6.888|5.811|1.432|...               en   \n",
      "3  9.79|8.084|8.538|33.379|11.733|11.866|8.141|12...               en   \n",
      "4  33.297|13.246|6.748|6.402|13.189|10.974|10.259...               en   \n",
      "\n",
      "   popularity  voteAvg  voteCount  genresAmount  productionCoAmount  \\\n",
      "0      20.880      5.7       2077             2                   2   \n",
      "1       9.596      6.5        223             3                   3   \n",
      "2     100.003      8.2      16598             3                   2   \n",
      "3     134.435      7.8      15928             2                   1   \n",
      "4      58.751      8.5      22045             3                   2   \n",
      "\n",
      "   productionCountriesAmount  actorsAmount castWomenAmount castMenAmount  \n",
      "0                          1            25              15             9  \n",
      "1                          2            15               3             9  \n",
      "2                          1           105               5            62  \n",
      "3                          1            24               5            18  \n",
      "4                          1            76              18            48  \n"
     ]
    }
   ],
   "source": [
    "\n",
    "columnas_a_eliminar = [\n",
    "    \"id\", \"originalTitle\", \"title\", \"homePage\", \"video\", \"director\", \n",
    "    \"actors\", \"actorsCharacter\", \"productionCompany\", \"productionCompanyCountry\", \n",
    "    \"productionCountry\", \"releaseDate\"\n",
    "]\n",
    "\n",
    "columnas_a_eliminar = [col for col in columnas_a_eliminar if col in df.columns]\n",
    "\n",
    "df.drop(columns=columnas_a_eliminar, inplace=True)\n",
    "\n",
    "print(df.head())\n",
    "\n"
   ]
  }
 ],
 "metadata": {
  "kernelspec": {
   "display_name": "Python 3",
   "language": "python",
   "name": "python3"
  },
  "language_info": {
   "codemirror_mode": {
    "name": "ipython",
    "version": 3
   },
   "file_extension": ".py",
   "mimetype": "text/x-python",
   "name": "python",
   "nbconvert_exporter": "python",
   "pygments_lexer": "ipython3",
   "version": "3.12.4"
  }
 },
 "nbformat": 4,
 "nbformat_minor": 2
}
